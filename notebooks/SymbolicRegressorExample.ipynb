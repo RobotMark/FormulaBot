{
 "cells": [
  {
   "cell_type": "markdown",
   "metadata": {},
   "source": [
    "### Symbolic Regressor Example v1.0\n",
    "<i>Use of the gplearn Symbolic Regressor class.</i>\n",
    "<P/><P/>\n",
    "Mark Maupin<BR>\n",
    "October 22, 2020"
   ]
  },
  {
   "cell_type": "code",
   "execution_count": 1,
   "metadata": {},
   "outputs": [],
   "source": [
    "import graphviz\n",
    "import pandas as pd\n",
    "import numpy as np\n",
    "import matplotlib.pyplot as plt\n",
    "from gplearn.genetic import SymbolicRegressor, SymbolicTransformer\n",
    "from sklearn.model_selection import train_test_split\n",
    "from sklearn.model_selection import KFold\n",
    "from tqdm import tqdm"
   ]
  },
  {
   "cell_type": "code",
   "execution_count": 2,
   "metadata": {},
   "outputs": [],
   "source": [
    "def plot_fitness_curves(pop, prod):\n",
    "    \n",
    "    fig, ax = plt.subplots()\n",
    "    x = np.arange(len(pop[0].run_details_['best_fitness']))\n",
    "\n",
    "    for i, gp in enumerate(pop):\n",
    "        plt.plot(x, gp.run_details_['best_fitness'], label=\"k=\"+str(i))\n",
    "    \n",
    "    plt.plot(x, prod.run_details_['best_fitness'], label=\"prod\")\n",
    "    plt.title(\"Best Fitness by Fold Through Time\")\n",
    "    plt.xlabel(\"Generations\")\n",
    "    plt.ylabel(\"Fitness\")\n",
    "    plt.legend()"
   ]
  },
  {
   "cell_type": "code",
   "execution_count": 3,
   "metadata": {},
   "outputs": [],
   "source": [
    "def SymbolicRegressorFactory(f_names):\n",
    "\n",
    "    return SymbolicRegressor(\n",
    "        population_size=2000, \n",
    "        generations=25, \n",
    "        tournament_size=20, \n",
    "        stopping_criteria=0.0, \n",
    "        const_range=(0.0, 0.0), \n",
    "        init_depth=(2, 6), \n",
    "        init_method='half and half', \n",
    "        function_set=['add', 'sub', 'mul', 'div', 'sqrt', 'abs'], \n",
    "        metric='mean absolute error', \n",
    "        parsimony_coefficient=0.001, \n",
    "        p_crossover=0.9, \n",
    "        p_subtree_mutation=0.01, \n",
    "        p_hoist_mutation=0.01, \n",
    "        p_point_mutation=0.01, \n",
    "        p_point_replace=0.05, \n",
    "        max_samples=1.0, \n",
    "        feature_names=f_names, \n",
    "        warm_start=False, \n",
    "        low_memory=False, \n",
    "        n_jobs=-1, \n",
    "        verbose=0, \n",
    "        random_state=None)"
   ]
  },
  {
   "cell_type": "code",
   "execution_count": 4,
   "metadata": {},
   "outputs": [],
   "source": [
    "def partition_data(src, oos=0.2, folds=5, targets=1, shuffle=True, rand_seed=None):    \n",
    "    df      = pd.read_csv(src)\n",
    "    \n",
    "    X       = df[df.columns[:-targets]]\n",
    "    X_all   = np.array(X.values.tolist())\n",
    "    y       = df[df.columns[-targets]]\n",
    "    y_all   = np.array(list(y.values))\n",
    "        \n",
    "    f_names = list(df.columns[:-targets])\n",
    "    \n",
    "    X_in_sample, X_out_sample, y_in_sample, y_out_sample = train_test_split(X_all, y_all, test_size=oos)\n",
    "    kf = KFold(n_splits=folds, random_state=rand_seed, shuffle=shuffle);\n",
    "    \n",
    "    return (X_in_sample, X_out_sample, y_in_sample, y_out_sample, kf, f_names)"
   ]
  },
  {
   "cell_type": "markdown",
   "metadata": {},
   "source": [
    "#### Import Data"
   ]
  },
  {
   "cell_type": "code",
   "execution_count": 5,
   "metadata": {},
   "outputs": [],
   "source": [
    "src       = r\"C:\\Users\\markr\\Projects\\Software\\FormulaBot\\data\\hypotenuse_01.csv\"\n",
    "oos       = 0.20\n",
    "folds     = 5\n",
    "targets   = 1\n",
    "shuffle   = True\n",
    "rand_seed = 101\n",
    "\n",
    "X_in_sample, X_out_sample, y_in_sample, y_out_sample, kf, f_names = partition_data(src, oos, folds, targets, shuffle, rand_seed)"
   ]
  },
  {
   "cell_type": "markdown",
   "metadata": {},
   "source": [
    "#### Split Data Into k-Folds, Compute Fitness"
   ]
  },
  {
   "cell_type": "code",
   "execution_count": 6,
   "metadata": {},
   "outputs": [
    {
     "name": "stderr",
     "output_type": "stream",
     "text": [
      "100%|████████████████████████████████████████████████████████████████████████████████████| 5/5 [03:16<00:00, 39.28s/it]\n"
     ]
    }
   ],
   "source": [
    "results = []\n",
    "\n",
    "with tqdm(total=kf.n_splits) as pbar:\n",
    "    for train_index, test_index in kf.split(X_in_sample):\n",
    "        X_train, X_test = X_in_sample[train_index], X_in_sample[test_index]\n",
    "        y_train, y_test = y_in_sample[train_index], y_in_sample[test_index]\n",
    "\n",
    "        gp = SymbolicRegressorFactory(f_names)\n",
    "        \n",
    "        gp.fit(X_train, y_train);\n",
    "        results.append((gp, gp.score(X_train,y_train), gp.score(X_test,y_test)))\n",
    "        pbar.update(1)"
   ]
  },
  {
   "cell_type": "code",
   "execution_count": 7,
   "metadata": {},
   "outputs": [],
   "source": [
    "gp = SymbolicRegressorFactory(f_names)\n",
    "gp.fit(X_train, y_train);\n",
    "score = gp.score(X_out_sample, y_out_sample)"
   ]
  },
  {
   "cell_type": "markdown",
   "metadata": {},
   "source": [
    "#### Report Validation and Out of Sample Testing"
   ]
  },
  {
   "cell_type": "code",
   "execution_count": 8,
   "metadata": {},
   "outputs": [
    {
     "name": "stdout",
     "output_type": "stream",
     "text": [
      "             |      Training:       |       Testing:      \n",
      "-------------------------------------------------------------\n",
      "Max:         |         1.0          |         1.0         \n",
      "Average:     |  0.9999999999981849  |  0.9999999999981801 \n",
      "Min:         |  0.9999999999909248  |  0.9999999999909006 \n",
      "-------------------------------------------------------------\n",
      "Out Sample:  |         N/A          |         1.0         \n"
     ]
    }
   ],
   "source": [
    "gps, train, test = zip(*results)\n",
    "print(\"\".ljust(12),\"|\",\"Training:\".center(20),\"|\",\"Testing:\".center(20))\n",
    "print(\"\".center(61, \"-\"))\n",
    "print(\"Max:\".ljust(12),\"|\",str(max(train)).center(20),\"|\",str(max(test)).center(20) )\n",
    "print(\"Average:\".ljust(12),\"|\",str(sum(train)/len(train)).center(20),\"|\",str(sum(test)/len(test)).center(20) )\n",
    "print(\"Min:\".ljust(12),\"|\",str(min(train)).center(20),\"|\",str(min(test)).center(20) )\n",
    "print(\"\".center(61, \"-\"))\n",
    "print(\"Out Sample:\".ljust(12),\"|\",\"N/A\".center(20),\"|\",str(score).center(20))"
   ]
  },
  {
   "cell_type": "code",
   "execution_count": 9,
   "metadata": {},
   "outputs": [
    {
     "data": {
      "image/png": "[encoded data removed]",
      "text/plain": [
       "<Figure size 432x288 with 1 Axes>"
      ]
     },
     "metadata": {
      "needs_background": "light"
     },
     "output_type": "display_data"
    }
   ],
   "source": [
    "plot_fitness_curves(gps, gp)"
   ]
  },
  {
   "cell_type": "markdown",
   "metadata": {},
   "source": [
    "#### Best Program"
   ]
  },
  {
   "cell_type": "code",
   "execution_count": 17,
   "metadata": {},
   "outputs": [
    {
     "name": "stdout",
     "output_type": "stream",
     "text": [
      "sqrt(add(mul(B, B), mul(A, A)))\n"
     ]
    },
    {
     "data": {
      "image/svg+xml": [
       "<?xml version=\"1.0\" encoding=\"UTF-8\" standalone=\"no\"?>\r\n",
       "<!DOCTYPE svg PUBLIC \"-//W3C//DTD SVG 1.1//EN\"\r\n",
       " \"http://www.w3.org/Graphics/SVG/1.1/DTD/svg11.dtd\">\r\n",
       "<!-- Generated by graphviz version 2.38.0 (20140413.2041)\r\n",
       " -->\r\n",
       "<!-- Title: program Pages: 1 -->\r\n",
       "<svg width=\"278pt\" height=\"260pt\"\r\n",
       " viewBox=\"0.00 0.00 278.00 260.00\" xmlns=\"http://www.w3.org/2000/svg\" xmlns:xlink=\"http://www.w3.org/1999/xlink\">\r\n",
       "<g id=\"graph0\" class=\"graph\" transform=\"scale(1 1) rotate(0) translate(4 256)\">\r\n",
       "<title>program</title>\r\n",
       "<polygon fill=\"white\" stroke=\"none\" points=\"-4,4 -4,-256 274,-256 274,4 -4,4\"/>\r\n",
       "<!-- 0 -->\r\n",
       "<g id=\"node1\" class=\"node\"><title>0</title>\r\n",
       "<ellipse fill=\"#136ed4\" stroke=\"black\" cx=\"135\" cy=\"-234\" rx=\"27\" ry=\"18\"/>\r\n",
       "<text text-anchor=\"middle\" x=\"135\" y=\"-230.3\" font-family=\"Times New Roman,serif\" font-size=\"14.00\">sqrt</text>\r\n",
       "</g>\r\n",
       "<!-- 1 -->\r\n",
       "<g id=\"node2\" class=\"node\"><title>1</title>\r\n",
       "<ellipse fill=\"#136ed4\" stroke=\"black\" cx=\"135\" cy=\"-162\" rx=\"27\" ry=\"18\"/>\r\n",
       "<text text-anchor=\"middle\" x=\"135\" y=\"-158.3\" font-family=\"Times New Roman,serif\" font-size=\"14.00\">add</text>\r\n",
       "</g>\r\n",
       "<!-- 0&#45;&gt;1 -->\r\n",
       "<g id=\"edge7\" class=\"edge\"><title>0&#45;&gt;1</title>\r\n",
       "<path fill=\"none\" stroke=\"black\" d=\"M135,-215.697C135,-207.983 135,-198.712 135,-190.112\"/>\r\n",
       "<polygon fill=\"black\" stroke=\"black\" points=\"138.5,-190.104 135,-180.104 131.5,-190.104 138.5,-190.104\"/>\r\n",
       "</g>\r\n",
       "<!-- 2 -->\r\n",
       "<g id=\"node3\" class=\"node\"><title>2</title>\r\n",
       "<ellipse fill=\"#136ed4\" stroke=\"black\" cx=\"99\" cy=\"-90\" rx=\"27\" ry=\"18\"/>\r\n",
       "<text text-anchor=\"middle\" x=\"99\" y=\"-86.3\" font-family=\"Times New Roman,serif\" font-size=\"14.00\">mul</text>\r\n",
       "</g>\r\n",
       "<!-- 1&#45;&gt;2 -->\r\n",
       "<g id=\"edge6\" class=\"edge\"><title>1&#45;&gt;2</title>\r\n",
       "<path fill=\"none\" stroke=\"black\" d=\"M126.65,-144.765C122.288,-136.283 116.853,-125.714 111.959,-116.197\"/>\r\n",
       "<polygon fill=\"black\" stroke=\"black\" points=\"114.99,-114.439 107.304,-107.147 108.765,-117.641 114.99,-114.439\"/>\r\n",
       "</g>\r\n",
       "<!-- 5 -->\r\n",
       "<g id=\"node6\" class=\"node\"><title>5</title>\r\n",
       "<ellipse fill=\"#136ed4\" stroke=\"black\" cx=\"171\" cy=\"-90\" rx=\"27\" ry=\"18\"/>\r\n",
       "<text text-anchor=\"middle\" x=\"171\" y=\"-86.3\" font-family=\"Times New Roman,serif\" font-size=\"14.00\">mul</text>\r\n",
       "</g>\r\n",
       "<!-- 1&#45;&gt;5 -->\r\n",
       "<g id=\"edge5\" class=\"edge\"><title>1&#45;&gt;5</title>\r\n",
       "<path fill=\"none\" stroke=\"black\" d=\"M143.35,-144.765C147.712,-136.283 153.147,-125.714 158.041,-116.197\"/>\r\n",
       "<polygon fill=\"black\" stroke=\"black\" points=\"161.235,-117.641 162.696,-107.147 155.01,-114.439 161.235,-117.641\"/>\r\n",
       "</g>\r\n",
       "<!-- 3 -->\r\n",
       "<g id=\"node4\" class=\"node\"><title>3</title>\r\n",
       "<ellipse fill=\"#60a6f6\" stroke=\"black\" cx=\"27\" cy=\"-18\" rx=\"27\" ry=\"18\"/>\r\n",
       "<text text-anchor=\"middle\" x=\"27\" y=\"-14.3\" font-family=\"Times New Roman,serif\" font-size=\"14.00\">B</text>\r\n",
       "</g>\r\n",
       "<!-- 2&#45;&gt;3 -->\r\n",
       "<g id=\"edge2\" class=\"edge\"><title>2&#45;&gt;3</title>\r\n",
       "<path fill=\"none\" stroke=\"black\" d=\"M84.4297,-74.8345C74.2501,-64.9376 60.4761,-51.5462 48.9694,-40.3591\"/>\r\n",
       "<polygon fill=\"black\" stroke=\"black\" points=\"51.4055,-37.8461 41.7957,-33.3847 46.5259,-42.865 51.4055,-37.8461\"/>\r\n",
       "</g>\r\n",
       "<!-- 4 -->\r\n",
       "<g id=\"node5\" class=\"node\"><title>4</title>\r\n",
       "<ellipse fill=\"#60a6f6\" stroke=\"black\" cx=\"99\" cy=\"-18\" rx=\"27\" ry=\"18\"/>\r\n",
       "<text text-anchor=\"middle\" x=\"99\" y=\"-14.3\" font-family=\"Times New Roman,serif\" font-size=\"14.00\">B</text>\r\n",
       "</g>\r\n",
       "<!-- 2&#45;&gt;4 -->\r\n",
       "<g id=\"edge1\" class=\"edge\"><title>2&#45;&gt;4</title>\r\n",
       "<path fill=\"none\" stroke=\"black\" d=\"M99,-71.6966C99,-63.9827 99,-54.7125 99,-46.1124\"/>\r\n",
       "<polygon fill=\"black\" stroke=\"black\" points=\"102.5,-46.1043 99,-36.1043 95.5001,-46.1044 102.5,-46.1043\"/>\r\n",
       "</g>\r\n",
       "<!-- 6 -->\r\n",
       "<g id=\"node7\" class=\"node\"><title>6</title>\r\n",
       "<ellipse fill=\"#60a6f6\" stroke=\"black\" cx=\"171\" cy=\"-18\" rx=\"27\" ry=\"18\"/>\r\n",
       "<text text-anchor=\"middle\" x=\"171\" y=\"-14.3\" font-family=\"Times New Roman,serif\" font-size=\"14.00\">A</text>\r\n",
       "</g>\r\n",
       "<!-- 5&#45;&gt;6 -->\r\n",
       "<g id=\"edge4\" class=\"edge\"><title>5&#45;&gt;6</title>\r\n",
       "<path fill=\"none\" stroke=\"black\" d=\"M171,-71.6966C171,-63.9827 171,-54.7125 171,-46.1124\"/>\r\n",
       "<polygon fill=\"black\" stroke=\"black\" points=\"174.5,-46.1043 171,-36.1043 167.5,-46.1044 174.5,-46.1043\"/>\r\n",
       "</g>\r\n",
       "<!-- 7 -->\r\n",
       "<g id=\"node8\" class=\"node\"><title>7</title>\r\n",
       "<ellipse fill=\"#60a6f6\" stroke=\"black\" cx=\"243\" cy=\"-18\" rx=\"27\" ry=\"18\"/>\r\n",
       "<text text-anchor=\"middle\" x=\"243\" y=\"-14.3\" font-family=\"Times New Roman,serif\" font-size=\"14.00\">A</text>\r\n",
       "</g>\r\n",
       "<!-- 5&#45;&gt;7 -->\r\n",
       "<g id=\"edge3\" class=\"edge\"><title>5&#45;&gt;7</title>\r\n",
       "<path fill=\"none\" stroke=\"black\" d=\"M185.57,-74.8345C195.75,-64.9376 209.524,-51.5462 221.031,-40.3591\"/>\r\n",
       "<polygon fill=\"black\" stroke=\"black\" points=\"223.474,-42.865 228.204,-33.3847 218.595,-37.8461 223.474,-42.865\"/>\r\n",
       "</g>\r\n",
       "</g>\r\n",
       "</svg>\r\n"
      ],
      "text/plain": [
       "<graphviz.files.Source at 0x15e9ad4e6d0>"
      ]
     },
     "execution_count": 17,
     "metadata": {},
     "output_type": "execute_result"
    }
   ],
   "source": [
    "k = test.index(max(test))\n",
    "print(gps[k]._program)\n",
    "dot_data = gps[k]._program.export_graphviz()\n",
    "graphviz.Source(dot_data)"
   ]
  },
  {
   "cell_type": "markdown",
   "metadata": {},
   "source": [
    "#### Display Program as Decision Tree"
   ]
  },
  {
   "cell_type": "code",
   "execution_count": 12,
   "metadata": {},
   "outputs": [
    {
     "data": {
      "image/svg+xml": [
       "<?xml version=\"1.0\" encoding=\"UTF-8\" standalone=\"no\"?>\r\n",
       "<!DOCTYPE svg PUBLIC \"-//W3C//DTD SVG 1.1//EN\"\r\n",
       " \"http://www.w3.org/Graphics/SVG/1.1/DTD/svg11.dtd\">\r\n",
       "<!-- Generated by graphviz version 2.38.0 (20140413.2041)\r\n",
       " -->\r\n",
       "<!-- Title: program Pages: 1 -->\r\n",
       "<svg width=\"278pt\" height=\"260pt\"\r\n",
       " viewBox=\"0.00 0.00 278.00 260.00\" xmlns=\"http://www.w3.org/2000/svg\" xmlns:xlink=\"http://www.w3.org/1999/xlink\">\r\n",
       "<g id=\"graph0\" class=\"graph\" transform=\"scale(1 1) rotate(0) translate(4 256)\">\r\n",
       "<title>program</title>\r\n",
       "<polygon fill=\"white\" stroke=\"none\" points=\"-4,4 -4,-256 274,-256 274,4 -4,4\"/>\r\n",
       "<!-- 0 -->\r\n",
       "<g id=\"node1\" class=\"node\"><title>0</title>\r\n",
       "<ellipse fill=\"#136ed4\" stroke=\"black\" cx=\"135\" cy=\"-234\" rx=\"27\" ry=\"18\"/>\r\n",
       "<text text-anchor=\"middle\" x=\"135\" y=\"-230.3\" font-family=\"Times New Roman,serif\" font-size=\"14.00\">sqrt</text>\r\n",
       "</g>\r\n",
       "<!-- 1 -->\r\n",
       "<g id=\"node2\" class=\"node\"><title>1</title>\r\n",
       "<ellipse fill=\"#136ed4\" stroke=\"black\" cx=\"135\" cy=\"-162\" rx=\"27\" ry=\"18\"/>\r\n",
       "<text text-anchor=\"middle\" x=\"135\" y=\"-158.3\" font-family=\"Times New Roman,serif\" font-size=\"14.00\">add</text>\r\n",
       "</g>\r\n",
       "<!-- 0&#45;&gt;1 -->\r\n",
       "<g id=\"edge7\" class=\"edge\"><title>0&#45;&gt;1</title>\r\n",
       "<path fill=\"none\" stroke=\"black\" d=\"M135,-215.697C135,-207.983 135,-198.712 135,-190.112\"/>\r\n",
       "<polygon fill=\"black\" stroke=\"black\" points=\"138.5,-190.104 135,-180.104 131.5,-190.104 138.5,-190.104\"/>\r\n",
       "</g>\r\n",
       "<!-- 2 -->\r\n",
       "<g id=\"node3\" class=\"node\"><title>2</title>\r\n",
       "<ellipse fill=\"#136ed4\" stroke=\"black\" cx=\"99\" cy=\"-90\" rx=\"27\" ry=\"18\"/>\r\n",
       "<text text-anchor=\"middle\" x=\"99\" y=\"-86.3\" font-family=\"Times New Roman,serif\" font-size=\"14.00\">mul</text>\r\n",
       "</g>\r\n",
       "<!-- 1&#45;&gt;2 -->\r\n",
       "<g id=\"edge6\" class=\"edge\"><title>1&#45;&gt;2</title>\r\n",
       "<path fill=\"none\" stroke=\"black\" d=\"M126.65,-144.765C122.288,-136.283 116.853,-125.714 111.959,-116.197\"/>\r\n",
       "<polygon fill=\"black\" stroke=\"black\" points=\"114.99,-114.439 107.304,-107.147 108.765,-117.641 114.99,-114.439\"/>\r\n",
       "</g>\r\n",
       "<!-- 5 -->\r\n",
       "<g id=\"node6\" class=\"node\"><title>5</title>\r\n",
       "<ellipse fill=\"#136ed4\" stroke=\"black\" cx=\"171\" cy=\"-90\" rx=\"27\" ry=\"18\"/>\r\n",
       "<text text-anchor=\"middle\" x=\"171\" y=\"-86.3\" font-family=\"Times New Roman,serif\" font-size=\"14.00\">mul</text>\r\n",
       "</g>\r\n",
       "<!-- 1&#45;&gt;5 -->\r\n",
       "<g id=\"edge5\" class=\"edge\"><title>1&#45;&gt;5</title>\r\n",
       "<path fill=\"none\" stroke=\"black\" d=\"M143.35,-144.765C147.712,-136.283 153.147,-125.714 158.041,-116.197\"/>\r\n",
       "<polygon fill=\"black\" stroke=\"black\" points=\"161.235,-117.641 162.696,-107.147 155.01,-114.439 161.235,-117.641\"/>\r\n",
       "</g>\r\n",
       "<!-- 3 -->\r\n",
       "<g id=\"node4\" class=\"node\"><title>3</title>\r\n",
       "<ellipse fill=\"#60a6f6\" stroke=\"black\" cx=\"27\" cy=\"-18\" rx=\"27\" ry=\"18\"/>\r\n",
       "<text text-anchor=\"middle\" x=\"27\" y=\"-14.3\" font-family=\"Times New Roman,serif\" font-size=\"14.00\">B</text>\r\n",
       "</g>\r\n",
       "<!-- 2&#45;&gt;3 -->\r\n",
       "<g id=\"edge2\" class=\"edge\"><title>2&#45;&gt;3</title>\r\n",
       "<path fill=\"none\" stroke=\"black\" d=\"M84.4297,-74.8345C74.2501,-64.9376 60.4761,-51.5462 48.9694,-40.3591\"/>\r\n",
       "<polygon fill=\"black\" stroke=\"black\" points=\"51.4055,-37.8461 41.7957,-33.3847 46.5259,-42.865 51.4055,-37.8461\"/>\r\n",
       "</g>\r\n",
       "<!-- 4 -->\r\n",
       "<g id=\"node5\" class=\"node\"><title>4</title>\r\n",
       "<ellipse fill=\"#60a6f6\" stroke=\"black\" cx=\"99\" cy=\"-18\" rx=\"27\" ry=\"18\"/>\r\n",
       "<text text-anchor=\"middle\" x=\"99\" y=\"-14.3\" font-family=\"Times New Roman,serif\" font-size=\"14.00\">B</text>\r\n",
       "</g>\r\n",
       "<!-- 2&#45;&gt;4 -->\r\n",
       "<g id=\"edge1\" class=\"edge\"><title>2&#45;&gt;4</title>\r\n",
       "<path fill=\"none\" stroke=\"black\" d=\"M99,-71.6966C99,-63.9827 99,-54.7125 99,-46.1124\"/>\r\n",
       "<polygon fill=\"black\" stroke=\"black\" points=\"102.5,-46.1043 99,-36.1043 95.5001,-46.1044 102.5,-46.1043\"/>\r\n",
       "</g>\r\n",
       "<!-- 6 -->\r\n",
       "<g id=\"node7\" class=\"node\"><title>6</title>\r\n",
       "<ellipse fill=\"#60a6f6\" stroke=\"black\" cx=\"171\" cy=\"-18\" rx=\"27\" ry=\"18\"/>\r\n",
       "<text text-anchor=\"middle\" x=\"171\" y=\"-14.3\" font-family=\"Times New Roman,serif\" font-size=\"14.00\">A</text>\r\n",
       "</g>\r\n",
       "<!-- 5&#45;&gt;6 -->\r\n",
       "<g id=\"edge4\" class=\"edge\"><title>5&#45;&gt;6</title>\r\n",
       "<path fill=\"none\" stroke=\"black\" d=\"M171,-71.6966C171,-63.9827 171,-54.7125 171,-46.1124\"/>\r\n",
       "<polygon fill=\"black\" stroke=\"black\" points=\"174.5,-46.1043 171,-36.1043 167.5,-46.1044 174.5,-46.1043\"/>\r\n",
       "</g>\r\n",
       "<!-- 7 -->\r\n",
       "<g id=\"node8\" class=\"node\"><title>7</title>\r\n",
       "<ellipse fill=\"#60a6f6\" stroke=\"black\" cx=\"243\" cy=\"-18\" rx=\"27\" ry=\"18\"/>\r\n",
       "<text text-anchor=\"middle\" x=\"243\" y=\"-14.3\" font-family=\"Times New Roman,serif\" font-size=\"14.00\">A</text>\r\n",
       "</g>\r\n",
       "<!-- 5&#45;&gt;7 -->\r\n",
       "<g id=\"edge3\" class=\"edge\"><title>5&#45;&gt;7</title>\r\n",
       "<path fill=\"none\" stroke=\"black\" d=\"M185.57,-74.8345C195.75,-64.9376 209.524,-51.5462 221.031,-40.3591\"/>\r\n",
       "<polygon fill=\"black\" stroke=\"black\" points=\"223.474,-42.865 228.204,-33.3847 218.595,-37.8461 223.474,-42.865\"/>\r\n",
       "</g>\r\n",
       "</g>\r\n",
       "</svg>\r\n"
      ],
      "text/plain": [
       "<graphviz.files.Source at 0x15e9ad4eaf0>"
      ]
     },
     "execution_count": 12,
     "metadata": {},
     "output_type": "execute_result"
    }
   ],
   "source": [
    "dot_data = gp._program.export_graphviz()\n",
    "graphviz.Source(dot_data)"
   ]
  },
  {
   "cell_type": "markdown",
   "metadata": {},
   "source": [
    "## And that is the correct answer!"
   ]
  }
 ],
 "metadata": {
  "kernelspec": {
   "display_name": "Python 3",
   "language": "python",
   "name": "python3"
  },
  "language_info": {
   "codemirror_mode": {
    "name": "ipython",
    "version": 3
   },
   "file_extension": ".py",
   "mimetype": "text/x-python",
   "name": "python",
   "nbconvert_exporter": "python",
   "pygments_lexer": "ipython3",
   "version": "3.8.5"
  }
 },
 "nbformat": 4,
 "nbformat_minor": 4
}
